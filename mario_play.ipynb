{
 "cells": [
  {
   "cell_type": "markdown",
   "id": "432e666c",
   "metadata": {},
   "source": [
    "# Load and test a pre-trained model"
   ]
  },
  {
   "cell_type": "code",
   "execution_count": 7,
   "id": "c75b7744",
   "metadata": {},
   "outputs": [],
   "source": [
    "import gym \n",
    "from stable_baselines3 import PPO\n",
    "from stable_baselines3.common.vec_env import DummyVecEnv, VecEnv\n",
    "from stable_baselines3.common.evaluation import evaluate_policy\n",
    "import os\n",
    "import sys\n",
    "import cloudpickle\n",
    "import pickle\n",
    "import torch\n",
    "if not hasattr(cloudpickle.cloudpickle, '_make_function') and hasattr(cloudpickle.cloudpickle_fast, '_make_function'):\n",
    "    print(\"Applying cloudpickle monkey patch\")\n",
    "    cloudpickle.cloudpickle._make_function = cloudpickle.cloudpickle_fast._make_function\n",
    "\n",
    "from gym_utils import SMBRamWrapper, load_smb_env, SMB\n",
    "version = 'SuperMarioBros-1-1-v0'"
   ]
  },
  {
   "cell_type": "code",
   "execution_count": null,
   "id": "4db9f9e8",
   "metadata": {},
   "outputs": [],
   "source": [
    "MODEL_DIR = './models/v3'\n",
    "\n",
    "crop_dim = [0, 16, 0, 13]\n",
    "n_stack = 4\n",
    "n_skip = 4\n",
    "MODEL_NAME = 'best_model_9800000'"
   ]
  },
  {
   "cell_type": "code",
   "execution_count": 16,
   "id": "3efda0ca",
   "metadata": {},
   "outputs": [
    {
     "name": "stdout",
     "output_type": "stream",
     "text": [
      "Loading environment...\n",
      "Environment loaded successfully\n",
      "Loading model from: ./models\\pre-trained-1\n",
      "Model loaded successfully\n",
      "Successfully created SMB instance\n"
     ]
    }
   ],
   "source": [
    "print(\"Loading environment...\")\n",
    "env_wrap = load_smb_env(version, crop_dim, n_stack, n_skip)\n",
    "print(\"Environment loaded successfully\")\n",
    "\n",
    "# Load model with custom_objects (the method that worked)\n",
    "print(f\"Loading model from: {os.path.join(MODEL_DIR, MODEL_NAME)}\")\n",
    "custom_objects = {\n",
    "    \"learning_rate\": 0.0,\n",
    "    \"lr_schedule\": lambda _: 0.0,\n",
    "    \"clip_range\": lambda _: 0.0,\n",
    "}\n",
    "model = PPO.load(os.path.join(MODEL_DIR, MODEL_NAME), env=env_wrap, custom_objects=custom_objects)\n",
    "print(\"Model loaded successfully\")\n",
    "\n",
    "# Create SMB instance\n",
    "smb = SMB(env_wrap, model)\n",
    "print(\"Successfully created SMB instance\")"
   ]
  },
  {
   "cell_type": "code",
   "execution_count": 17,
   "id": "52270ed2",
   "metadata": {},
   "outputs": [
    {
     "name": "stdout",
     "output_type": "stream",
     "text": [
      "Starting game play...\n",
      "Episode:1 Score:[3066.]\n",
      "Game play error: unsupported operand type(s) for +: 'int' and 'dict'\n",
      "Cleaning up resources...\n",
      "Environment closed successfully\n",
      "Game session ended\n"
     ]
    }
   ],
   "source": [
    "try:\n",
    "    print(\"Starting game play...\")\n",
    "    rewards, steps = smb.play(episodes=1, deterministic=True, render=True, return_eval=True)\n",
    "    print(f\"Episode completed! Average reward: {sum(rewards)/len(rewards):.2f}, Steps: {sum(steps)}\")\n",
    "except Exception as e:\n",
    "    print(f\"Game play error: {e}\")\n",
    "finally:\n",
    "    # Clean up resources properly to avoid window crashes\n",
    "    print(\"Cleaning up resources...\")\n",
    "    try:\n",
    "        env_wrap.close()\n",
    "        print(\"Environment closed successfully\")\n",
    "    except Exception as close_error:\n",
    "        print(f\"Error closing environment: {close_error}\")\n",
    "    print(\"Game session ended\")"
   ]
  }
 ],
 "metadata": {
  "kernelspec": {
   "display_name": "Python (Mario RL)",
   "language": "python",
   "name": "mario_env"
  },
  "language_info": {
   "codemirror_mode": {
    "name": "ipython",
    "version": 3
   },
   "file_extension": ".py",
   "mimetype": "text/x-python",
   "name": "python",
   "nbconvert_exporter": "python",
   "pygments_lexer": "ipython3",
   "version": "3.8.0"
  }
 },
 "nbformat": 4,
 "nbformat_minor": 5
}
