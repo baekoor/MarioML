{
 "cells": [
  {
   "cell_type": "markdown",
   "id": "37d63118",
   "metadata": {},
   "source": [
    "Imports"
   ]
  },
  {
   "cell_type": "code",
   "execution_count": 27,
   "id": "21f9b277",
   "metadata": {},
   "outputs": [],
   "source": [
    "from nes_py.wrappers import JoypadSpace\n",
    "import gym\n",
    "import torch\n",
    "from gymUtils import RamWrapper\n",
    "import gym_super_mario_bros\n",
    "from gym_super_mario_bros.actions import SIMPLE_MOVEMENT, RIGHT_ONLY \n",
    "\n",
    "from stable_baselines3 import PPO\n",
    "from stable_baselines3.common.vec_env import DummyVecEnv, VecEnv, SubprocVecEnv\n",
    "from stable_baselines3.common.evaluation import evaluate_policy\n",
    "from stable_baselines3.common.monitor import Monitor\n",
    "from stable_baselines3.common.callbacks import BaseCallback\n",
    "\n",
    "import time\n",
    "import os\n",
    "from typing import Callable, List, Dict, Any, Union, Optional\n",
    "import matplotlib.pyplot as plt"
   ]
  },
  {
   "cell_type": "code",
   "execution_count": 20,
   "id": "cf3dac61",
   "metadata": {},
   "outputs": [],
   "source": [
    "env = gym_super_mario_bros.make('SuperMarioBros-1-1-v1')\n",
    "env = JoypadSpace(env, SIMPLE_MOVEMENT)"
   ]
  },
  {
   "cell_type": "markdown",
   "id": "ec773972",
   "metadata": {},
   "source": [
    "Process Environment"
   ]
  },
  {
   "cell_type": "code",
   "execution_count": 21,
   "id": "ecdffe89",
   "metadata": {},
   "outputs": [],
   "source": [
    "# Setup cropping size\n",
    "x0 = 0\n",
    "x1 = 16\n",
    "y0 = 0\n",
    "y1 = 13\n",
    "n_stack = 4\n",
    "n_skip = 4\n",
    "\n",
    "env_wrap = RamWrapper(env, [x0, x1, y0, y1], n_stack=n_stack, n_skip=n_skip)"
   ]
  },
  {
   "cell_type": "code",
   "execution_count": 22,
   "id": "f1018d94",
   "metadata": {},
   "outputs": [],
   "source": [
    "# test env_wrap\n",
    "done = True\n",
    "for i in range(150):\n",
    "    if done:\n",
    "        state = env_wrap.reset()\n",
    "    state, reward, done, info = env_wrap.step(env_wrap.action_space.sample())"
   ]
  },
  {
   "cell_type": "code",
   "execution_count": 23,
   "id": "503a7d85",
   "metadata": {},
   "outputs": [
    {
     "name": "stderr",
     "output_type": "stream",
     "text": [
      "C:\\Windows\\Temp\\ipykernel_19608\\2465258508.py:14: UserWarning: This figure includes Axes that are not compatible with tight_layout, so results might be incorrect.\n",
      "  plt.tight_layout(rect=[0, 0, 0.9, 1])\n"
     ]
    },
    {
     "data": {
      "image/png": "[encoded data removed]",
      "text/plain": [
       "<Figure size 1400x1000 with 5 Axes>"
      ]
     },
     "metadata": {},
     "output_type": "display_data"
    }
   ],
   "source": [
    "fig, ax = plt.subplots(1, n_stack, figsize=(14, 10))\n",
    "for i in range(n_stack):\n",
    "    # Display frames from newest to oldest\n",
    "    ax[i].imshow(state[:, :, n_stack-i-1], vmin=-1, vmax=2, cmap='viridis')\n",
    "    ax[i].set_title(f'Frame {n_stack-i-1}')\n",
    "    ax[i].axis('off')\n",
    "\n",
    "# Create a colorbar legend\n",
    "cbar_ax = fig.add_axes([0.92, 0.15, 0.02, 0.7])\n",
    "cbar = plt.colorbar(ax[0].images[0], cax=cbar_ax)\n",
    "cbar.set_ticks([-1, 0, 1, 2])\n",
    "cbar.set_ticklabels(['Enemy', 'Empty', 'Tile', 'Mario'])\n",
    "\n",
    "plt.tight_layout(rect=[0, 0, 0.9, 1])\n",
    "plt.show()"
   ]
  },
  {
   "cell_type": "code",
   "execution_count": 24,
   "id": "bc903d16",
   "metadata": {},
   "outputs": [],
   "source": [
    "# Apply other wrapper functions\n",
    "env_wrap = Monitor(env_wrap)\n",
    "env_wrap = DummyVecEnv([lambda: env_wrap])"
   ]
  },
  {
   "cell_type": "markdown",
   "id": "b1f4a86f",
   "metadata": {},
   "source": [
    "Setup RL Model"
   ]
  },
  {
   "cell_type": "code",
   "execution_count": 28,
   "id": "09f25b1c",
   "metadata": {},
   "outputs": [],
   "source": [
    "class ModelCheckpointCallback(BaseCallback):\n",
    "    \"\"\"\n",
    "    Callback for saving model checkpoints during training at specified intervals.\n",
    "    \n",
    "    This callback saves the model periodically based on the number of training steps.\n",
    "    \"\"\"\n",
    "    \n",
    "    def __init__(self, \n",
    "                 check_freq: int, \n",
    "                 save_path: str, \n",
    "                 starting_steps: int = 0, \n",
    "                 verbose: int = 1):\n",
    "        \"\"\"\n",
    "        Initialize the checkpoint callback.\n",
    "        \n",
    "        Args:\n",
    "            check_freq (int): How often to save the model (in steps)\n",
    "            save_path (str): Directory path to save model checkpoints\n",
    "            starting_steps (int): Starting step count if resuming training\n",
    "            verbose (int): Verbosity level (0: no output, 1: info)\n",
    "        \"\"\"\n",
    "        super(ModelCheckpointCallback, self).__init__(verbose)\n",
    "        self.check_freq = check_freq\n",
    "        self.save_path = save_path\n",
    "        self.starting_steps = starting_steps\n",
    "    \n",
    "    def _init_callback(self):\n",
    "        \"\"\"Create the checkpoint directory if it doesn't exist.\"\"\"\n",
    "        if self.save_path is not None:\n",
    "            os.makedirs(self.save_path, exist_ok=True)\n",
    "    \n",
    "    def _on_step(self):\n",
    "        \"\"\"\n",
    "        Save the model when the specified number of steps has been reached.\n",
    "        \n",
    "        Returns:\n",
    "            bool: Whether training should continue (always True)\n",
    "        \"\"\"\n",
    "        if self.n_calls % self.check_freq == 0:\n",
    "            total_steps = self.n_calls + self.starting_steps\n",
    "            checkpoint_path = os.path.join(\n",
    "                self.save_path, \n",
    "                f'model_checkpoint_{total_steps}'\n",
    "            )\n",
    "            self.model.save(checkpoint_path)\n",
    "            if self.verbose > 0:\n",
    "                print(f\"Saved model checkpoint at {total_steps} steps\")\n",
    "        \n",
    "        return True\n",
    "\n",
    "\n",
    "def linear_learning_rate_schedule(initial_lr: float) -> Callable[[float], float]:\n",
    "    \"\"\"\n",
    "    Creates a linear learning rate decay schedule.\n",
    "    \n",
    "    The learning rate decreases linearly from the initial value to zero\n",
    "    as training progresses from start to finish.\n",
    "    \n",
    "    Args:\n",
    "        initial_lr (float): The starting learning rate\n",
    "        \n",
    "    Returns:\n",
    "        callable: A function that computes the current learning rate\n",
    "                 based on remaining progress\n",
    "    \"\"\"\n",
    "    def scheduler(progress_remaining: float) -> float:\n",
    "        \"\"\"\n",
    "        Calculate current learning rate based on remaining progress.\n",
    "        \n",
    "        Args:\n",
    "            progress_remaining (float): Value from 1.0 (training start) \n",
    "                                      to 0.0 (training end)\n",
    "        \n",
    "        Returns:\n",
    "            float: Current learning rate\n",
    "        \"\"\"\n",
    "        return progress_remaining * initial_lr\n",
    "    \n",
    "    return scheduler\n"
   ]
  },
  {
   "cell_type": "code",
   "execution_count": 29,
   "id": "3b9d9b34",
   "metadata": {},
   "outputs": [
    {
     "name": "stdout",
     "output_type": "stream",
     "text": [
      "Using cpu device\n"
     ]
    }
   ],
   "source": [
    "MODEL = './models/v3'\n",
    "LOG = './logs/v3'\n",
    "model = PPO('MlpPolicy', env_wrap, verbose=1, learning_rate=linear_learning_rate_schedule(3e-4), tensorboard_log=LOG)"
   ]
  },
  {
   "cell_type": "code",
   "execution_count": 30,
   "id": "2f2b67e9",
   "metadata": {},
   "outputs": [],
   "source": [
    "callback = ModelCheckpointCallback(check_freq=1e5, starting_steps=0, save_path=MODEL)"
   ]
  },
  {
   "cell_type": "markdown",
   "id": "e212fb30",
   "metadata": {},
   "source": [
    "Train Model"
   ]
  },
  {
   "cell_type": "code",
   "execution_count": null,
   "id": "dd9b8e81",
   "metadata": {
    "scrolled": true
   },
   "outputs": [
    {
     "name": "stdout",
     "output_type": "stream",
     "text": [
      "Logging to ./logs/v3\\PPO_2\n"
     ]
    },
    {
     "name": "stderr",
     "output_type": "stream",
     "text": [
      "f:\\MarioML\\venv\\lib\\site-packages\\gym_super_mario_bros\\smb_env.py:148: RuntimeWarning: overflow encountered in ubyte_scalars\n",
      "  return (self.ram[0x86] - self.ram[0x071c]) % 256\n"
     ]
    },
    {
     "name": "stdout",
     "output_type": "stream",
     "text": [
      "-----------------------------\n",
      "| time/              |      |\n",
      "|    fps             | 363  |\n",
      "|    iterations      | 1    |\n",
      "|    time_elapsed    | 5    |\n",
      "|    total_timesteps | 2048 |\n",
      "-----------------------------\n",
      "------------------------------------------\n",
      "| time/                   |              |\n",
      "|    fps                  | 387          |\n",
      "|    iterations           | 2            |\n",
      "|    time_elapsed         | 10           |\n",
      "|    total_timesteps      | 4096         |\n",
      "| train/                  |              |\n",
      "|    approx_kl            | 0.0061184163 |\n",
      "|    clip_fraction        | 0.0206       |\n",
      "|    clip_range           | 0.2          |\n",
      "|    entropy_loss         | -1.94        |\n",
      "|    explained_variance   | -0.0188      |\n",
      "|    learning_rate        | 0.0003       |\n",
      "|    loss                 | 32.6         |\n",
      "|    n_updates            | 10           |\n",
      "|    policy_gradient_loss | -0.00704     |\n",
      "|    value_loss           | 116          |\n",
      "------------------------------------------\n",
      "-----------------------------------------\n",
      "| time/                   |             |\n",
      "|    fps                  | 397         |\n",
      "|    iterations           | 3           |\n",
      "|    time_elapsed         | 15          |\n",
      "|    total_timesteps      | 6144        |\n",
      "| train/                  |             |\n",
      "|    approx_kl            | 0.012310081 |\n",
      "|    clip_fraction        | 0.145       |\n",
      "|    clip_range           | 0.2         |\n",
      "|    entropy_loss         | -1.93       |\n",
      "|    explained_variance   | 0.184       |\n",
      "|    learning_rate        | 0.0003      |\n",
      "|    loss                 | 0.185       |\n",
      "|    n_updates            | 20          |\n",
      "|    policy_gradient_loss | -0.0107     |\n",
      "|    value_loss           | 0.335       |\n",
      "-----------------------------------------\n",
      "-----------------------------------------\n",
      "| rollout/                |             |\n",
      "|    ep_len_mean          | 7.82e+03    |\n",
      "|    ep_rew_mean          | 276         |\n",
      "| time/                   |             |\n",
      "|    fps                  | 398         |\n",
      "|    iterations           | 4           |\n",
      "|    time_elapsed         | 20          |\n",
      "|    total_timesteps      | 8192        |\n",
      "| train/                  |             |\n",
      "|    approx_kl            | 0.010553259 |\n",
      "|    clip_fraction        | 0.111       |\n",
      "|    clip_range           | 0.2         |\n",
      "|    entropy_loss         | -1.93       |\n",
      "|    explained_variance   | 0.174       |\n",
      "|    learning_rate        | 0.0003      |\n",
      "|    loss                 | 0.0962      |\n",
      "|    n_updates            | 30          |\n",
      "|    policy_gradient_loss | -0.00985    |\n",
      "|    value_loss           | 0.187       |\n",
      "-----------------------------------------\n",
      "------------------------------------------\n",
      "| rollout/                |              |\n",
      "|    ep_len_mean          | 4.22e+03     |\n",
      "|    ep_rew_mean          | 445          |\n",
      "| time/                   |              |\n",
      "|    fps                  | 399          |\n",
      "|    iterations           | 5            |\n",
      "|    time_elapsed         | 25           |\n",
      "|    total_timesteps      | 10240        |\n",
      "| train/                  |              |\n",
      "|    approx_kl            | 0.0057515227 |\n",
      "|    clip_fraction        | 0.0469       |\n",
      "|    clip_range           | 0.2          |\n",
      "|    entropy_loss         | -1.93        |\n",
      "|    explained_variance   | 0.463        |\n",
      "|    learning_rate        | 0.0003       |\n",
      "|    loss                 | 58           |\n",
      "|    n_updates            | 40           |\n",
      "|    policy_gradient_loss | -0.00492     |\n",
      "|    value_loss           | 130          |\n",
      "------------------------------------------\n",
      "------------------------------------------\n",
      "| rollout/                |              |\n",
      "|    ep_len_mean          | 4.22e+03     |\n",
      "|    ep_rew_mean          | 445          |\n",
      "| time/                   |              |\n",
      "|    fps                  | 401          |\n",
      "|    iterations           | 6            |\n",
      "|    time_elapsed         | 30           |\n",
      "|    total_timesteps      | 12288        |\n",
      "| train/                  |              |\n",
      "|    approx_kl            | 0.0067672892 |\n",
      "|    clip_fraction        | 0.00786      |\n",
      "|    clip_range           | 0.2          |\n",
      "|    entropy_loss         | -1.93        |\n",
      "|    explained_variance   | 0.653        |\n",
      "|    learning_rate        | 0.0003       |\n",
      "|    loss                 | 39.1         |\n",
      "|    n_updates            | 50           |\n",
      "|    policy_gradient_loss | -0.00544     |\n",
      "|    value_loss           | 90.2         |\n",
      "------------------------------------------\n",
      "----------------------------------------\n",
      "| rollout/                |            |\n",
      "|    ep_len_mean          | 4.22e+03   |\n",
      "|    ep_rew_mean          | 445        |\n",
      "| time/                   |            |\n",
      "|    fps                  | 404        |\n",
      "|    iterations           | 7          |\n",
      "|    time_elapsed         | 35         |\n",
      "|    total_timesteps      | 14336      |\n",
      "| train/                  |            |\n",
      "|    approx_kl            | 0.01146608 |\n",
      "|    clip_fraction        | 0.0721     |\n",
      "|    clip_range           | 0.2        |\n",
      "|    entropy_loss         | -1.91      |\n",
      "|    explained_variance   | -0.84      |\n",
      "|    learning_rate        | 0.0003     |\n",
      "|    loss                 | 0.28       |\n",
      "|    n_updates            | 60         |\n",
      "|    policy_gradient_loss | -0.00813   |\n",
      "|    value_loss           | 0.868      |\n",
      "----------------------------------------\n"
     ]
    }
   ],
   "source": [
    "t_start = time.time()\n",
    "\n",
    "model.learn(total_timesteps=10e6, callback=callback)\n",
    "\n",
    "t_elapsed = time.time() - t_start"
   ]
  },
  {
   "cell_type": "markdown",
   "id": "be236c1b",
   "metadata": {},
   "source": [
    "Save and load trained model"
   ]
  },
  {
   "cell_type": "code",
   "execution_count": null,
   "id": "0e2ef893",
   "metadata": {},
   "outputs": [
    {
     "ename": "NameError",
     "evalue": "name 'MODEL' is not defined",
     "output_type": "error",
     "traceback": [
      "\u001b[1;31m---------------------------------------------------------------------------\u001b[0m",
      "\u001b[1;31mNameError\u001b[0m                                 Traceback (most recent call last)",
      "Cell \u001b[1;32mIn[17], line 2\u001b[0m\n\u001b[0;32m      1\u001b[0m \u001b[38;5;66;03m# Save model\u001b[39;00m\n\u001b[1;32m----> 2\u001b[0m model_path \u001b[38;5;241m=\u001b[39m os\u001b[38;5;241m.\u001b[39mpath\u001b[38;5;241m.\u001b[39mjoin(\u001b[43mMODEL\u001b[49m, \u001b[38;5;124m'\u001b[39m\u001b[38;5;124mmario_v1\u001b[39m\u001b[38;5;124m'\u001b[39m)\n\u001b[0;32m      3\u001b[0m model\u001b[38;5;241m.\u001b[39msave(model_path)\n",
      "\u001b[1;31mNameError\u001b[0m: name 'MODEL' is not defined"
     ]
    }
   ],
   "source": [
    "# Save model\n",
    "model_path = os.path.join(MODEL, 'marioV1')\n",
    "model.save(model_path)"
   ]
  },
  {
   "cell_type": "code",
   "execution_count": null,
   "id": "862a325b",
   "metadata": {},
   "outputs": [],
   "source": [
    "del model"
   ]
  },
  {
   "cell_type": "code",
   "execution_count": 31,
   "id": "3dd36cca",
   "metadata": {},
   "outputs": [],
   "source": [
    "# Load model\n",
    "MODEL = './marioV1'\n",
    "LOG = './'\n",
    "\n",
    "model_path = MODEL\n",
    "model = PPO.load(model_path, env=env_wrap)"
   ]
  },
  {
   "cell_type": "markdown",
   "id": "830f39a6",
   "metadata": {},
   "source": [
    "Test Our Model"
   ]
  },
  {
   "cell_type": "code",
   "execution_count": null,
   "id": "1453a891",
   "metadata": {},
   "outputs": [
    {
     "name": "stdout",
     "output_type": "stream",
     "text": [
      "Episode:1 Score:[3066.]\n"
     ]
    }
   ],
   "source": [
    "from stable_baselines3.common.evaluation import evaluate_policy\n",
    "\n",
    "evaluate_policy(model, env_wrap, n_eval_episodes=1, deterministic=True, render=False, return_episode_rewards=False)\n",
    "\n",
    "episode = 1\n",
    "\n",
    "for episode in range(1, episode+1):\n",
    "    states = env_wrap.reset()\n",
    "    done = False\n",
    "    score = 0\n",
    "    \n",
    "    while not done:\n",
    "        env_wrap.render()\n",
    "        action, _ = model.predict(states, deterministic=True)\n",
    "        states, reward, done, info = env_wrap.step(action)\n",
    "        score += reward\n",
    "        time.sleep(0.01)\n",
    "    print('Episode:{} Score:{}'.format(episode, score))\n",
    "env.close()"
   ]
  }
 ],
 "metadata": {
  "kernelspec": {
   "display_name": "Python (Mario RL)",
   "language": "python",
   "name": "mario_env"
  },
  "language_info": {
   "codemirror_mode": {
    "name": "ipython",
    "version": 3
   },
   "file_extension": ".py",
   "mimetype": "text/x-python",
   "name": "python",
   "nbconvert_exporter": "python",
   "pygments_lexer": "ipython3",
   "version": "3.8.0"
  }
 },
 "nbformat": 4,
 "nbformat_minor": 5
}
